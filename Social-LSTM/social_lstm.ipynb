{
 "cells": [
  {
   "cell_type": "markdown",
   "metadata": {},
   "source": [
    "# 行人数据集\n",
    "\n",
    "##  pixel_pos.csv文件格式\n",
    "\n",
    "pixel_pose.csv包含4行，第一行是所有的Frame Number；第二行是所有行人的ID；第三行是所有的y坐标；第四行是所有的x坐标。\n",
    "\n",
    "pixel_pose.csv的列数是所有行人轨迹点的数量。"
   ]
  },
  {
   "cell_type": "code",
   "execution_count": 12,
   "metadata": {},
   "outputs": [
    {
     "name": "stdout",
     "output_type": "stream",
     "text": [
      "number of pedestrians is:\n",
      "traj of pedestrians 1 is:\n",
      "[[ 1.      11.     ]\n",
      " [ 2.       2.     ]\n",
      " [ 0.55382  0.56076]\n",
      " [ 0.21944  0.175  ]]\n",
      "format traj:\n",
      "[[ 0.21944  0.175  ]\n",
      " [ 0.55382  0.56076]\n",
      " [ 1.      11.     ]]\n"
     ]
    }
   ],
   "source": [
    "import os\n",
    "import numpy as np\n",
    "\n",
    "directory = \"./data/eth/hotel\"\n",
    "\n",
    "file_path = os.path.join(directory, 'pixel_pos.csv')\n",
    "\n",
    "data = np.genfromtxt(file_path, delimiter=',')\n",
    "\n",
    "# Get the number of pedestrians in the current dataset\n",
    "numPeds = np.size(np.unique(data[1, :]))\n",
    "\n",
    "print(\"number of pedestrians is:\".format(numPeds))\n",
    "\n",
    "traj = data[:, data[1, :] == 2]\n",
    "\n",
    "print(\"traj of pedestrians 1 is:\")\n",
    "print(traj)\n",
    "\n",
    "traj = traj[[3, 2, 0], :]\n",
    "\n",
    "print(\"format traj:\")\n",
    "print(traj)"
   ]
  },
  {
   "cell_type": "code",
   "execution_count": 13,
   "metadata": {},
   "outputs": [
    {
     "name": "stdout",
     "output_type": "stream",
     "text": [
      "tf.Tensor(\n",
      "[[[ 0.  1.]\n",
      "  [ 2.  3.]\n",
      "  [ 4.  5.]\n",
      "  [ 6.  7.]\n",
      "  [ 8.  9.]]\n",
      "\n",
      " [[10. 11.]\n",
      "  [12. 13.]\n",
      "  [14. 15.]\n",
      "  [16. 17.]\n",
      "  [18. 19.]]\n",
      "\n",
      " [[20. 21.]\n",
      "  [22. 23.]\n",
      "  [24. 25.]\n",
      "  [26. 27.]\n",
      "  [28. 29.]]], shape=(3, 5, 2), dtype=float32)\n",
      "[<tf.Tensor: shape=(3, 1, 2), dtype=float32, numpy=\n",
      "array([[[ 0.,  1.]],\n",
      "\n",
      "       [[10., 11.]],\n",
      "\n",
      "       [[20., 21.]]], dtype=float32)>, <tf.Tensor: shape=(3, 1, 2), dtype=float32, numpy=\n",
      "array([[[ 2.,  3.]],\n",
      "\n",
      "       [[12., 13.]],\n",
      "\n",
      "       [[22., 23.]]], dtype=float32)>, <tf.Tensor: shape=(3, 1, 2), dtype=float32, numpy=\n",
      "array([[[ 4.,  5.]],\n",
      "\n",
      "       [[14., 15.]],\n",
      "\n",
      "       [[24., 25.]]], dtype=float32)>, <tf.Tensor: shape=(3, 1, 2), dtype=float32, numpy=\n",
      "array([[[ 6.,  7.]],\n",
      "\n",
      "       [[16., 17.]],\n",
      "\n",
      "       [[26., 27.]]], dtype=float32)>, <tf.Tensor: shape=(3, 1, 2), dtype=float32, numpy=\n",
      "array([[[ 8.,  9.]],\n",
      "\n",
      "       [[18., 19.]],\n",
      "\n",
      "       [[28., 29.]]], dtype=float32)>]\n",
      "[<tf.Tensor: shape=(3, 2), dtype=float32, numpy=\n",
      "array([[ 0.,  1.],\n",
      "       [10., 11.],\n",
      "       [20., 21.]], dtype=float32)>, <tf.Tensor: shape=(3, 2), dtype=float32, numpy=\n",
      "array([[ 2.,  3.],\n",
      "       [12., 13.],\n",
      "       [22., 23.]], dtype=float32)>, <tf.Tensor: shape=(3, 2), dtype=float32, numpy=\n",
      "array([[ 4.,  5.],\n",
      "       [14., 15.],\n",
      "       [24., 25.]], dtype=float32)>, <tf.Tensor: shape=(3, 2), dtype=float32, numpy=\n",
      "array([[ 6.,  7.],\n",
      "       [16., 17.],\n",
      "       [26., 27.]], dtype=float32)>, <tf.Tensor: shape=(3, 2), dtype=float32, numpy=\n",
      "array([[ 8.,  9.],\n",
      "       [18., 19.],\n",
      "       [28., 29.]], dtype=float32)>]\n"
     ]
    }
   ],
   "source": [
    "import tensorflow as tf\n",
    "\n",
    "batch_size = 3\n",
    "sentence_max_length = 5\n",
    "n_features = 2\n",
    "new_shape = (batch_size, sentence_max_length, n_features)\n",
    "x = tf.constant(np.reshape(np.arange(30), new_shape), dtype = tf.float32)\n",
    "\n",
    "print(x)\n",
    "\n",
    "inputs = tf.split(x, sentence_max_length, 1)\n",
    "\n",
    "print(inputs)\n",
    "\n",
    "inputs = [tf.squeeze(input_, [1]) for input_ in inputs]\n",
    "\n",
    "print(inputs)"
   ]
  },
  {
   "cell_type": "code",
   "execution_count": null,
   "metadata": {},
   "outputs": [],
   "source": []
  }
 ],
 "metadata": {
  "kernelspec": {
   "display_name": "Python 3",
   "language": "python",
   "name": "python3"
  },
  "language_info": {
   "codemirror_mode": {
    "name": "ipython",
    "version": 3
   },
   "file_extension": ".py",
   "mimetype": "text/x-python",
   "name": "python",
   "nbconvert_exporter": "python",
   "pygments_lexer": "ipython3",
   "version": "3.8.3"
  }
 },
 "nbformat": 4,
 "nbformat_minor": 4
}

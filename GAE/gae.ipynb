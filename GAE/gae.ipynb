{
 "cells": [
  {
   "cell_type": "code",
   "execution_count": 1,
   "metadata": {},
   "outputs": [
    {
     "name": "stdout",
     "output_type": "stream",
     "text": [
      "k: 0 hopk_num: 10\n",
      "k: 1 hopk_num: 10\n"
     ]
    }
   ],
   "source": [
    "NUM_NEIGHBORS_LIST = [10, 10] \n",
    "\n",
    "for k, hopk_num in enumerate(NUM_NEIGHBORS_LIST):\n",
    "        print(\"k: {} hopk_num: {}\".format(k, hopk_num))"
   ]
  },
  {
   "cell_type": "code",
   "execution_count": 8,
   "metadata": {},
   "outputs": [
    {
     "name": "stdout",
     "output_type": "stream",
     "text": [
      "[1 1 2]\n",
      "{1: 3, 2: 3}\n"
     ]
    }
   ],
   "source": [
    "import numpy as np\n",
    "\n",
    "edges=np.array([[1, 2], [1, 3], [2, 3]])\n",
    "\n",
    "print(edges[:, 0])\n",
    "\n",
    "adj = dict(zip(edges[:, 0], edges[:, 1]))\n",
    "\n",
    "print(adj)"
   ]
  },
  {
   "cell_type": "code",
   "execution_count": null,
   "metadata": {},
   "outputs": [],
   "source": []
  }
 ],
 "metadata": {
  "kernelspec": {
   "display_name": "Python 3",
   "language": "python",
   "name": "python3"
  },
  "language_info": {
   "codemirror_mode": {
    "name": "ipython",
    "version": 3
   },
   "file_extension": ".py",
   "mimetype": "text/x-python",
   "name": "python",
   "nbconvert_exporter": "python",
   "pygments_lexer": "ipython3",
   "version": "3.8.3"
  }
 },
 "nbformat": 4,
 "nbformat_minor": 4
}
